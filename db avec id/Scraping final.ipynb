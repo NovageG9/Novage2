{
 "cells": [
  {
   "cell_type": "code",
   "execution_count": 2,
   "id": "4fdfe355",
   "metadata": {},
   "outputs": [
    {
     "name": "stderr",
     "output_type": "stream",
     "text": [
      "C:\\Users\\Tang Xiaoyun\\AppData\\Local\\Temp\\ipykernel_22104\\212617760.py:60: FutureWarning: The frame.append method is deprecated and will be removed from pandas in a future version. Use pandas.concat instead.\n",
      "  df = df.append(series,ignore_index=True)\n",
      "C:\\Users\\Tang Xiaoyun\\AppData\\Local\\Temp\\ipykernel_22104\\212617760.py:60: FutureWarning: The frame.append method is deprecated and will be removed from pandas in a future version. Use pandas.concat instead.\n",
      "  df = df.append(series,ignore_index=True)\n",
      "C:\\Users\\Tang Xiaoyun\\AppData\\Local\\Temp\\ipykernel_22104\\212617760.py:60: FutureWarning: The frame.append method is deprecated and will be removed from pandas in a future version. Use pandas.concat instead.\n",
      "  df = df.append(series,ignore_index=True)\n",
      "C:\\Users\\Tang Xiaoyun\\AppData\\Local\\Temp\\ipykernel_22104\\212617760.py:60: FutureWarning: The frame.append method is deprecated and will be removed from pandas in a future version. Use pandas.concat instead.\n",
      "  df = df.append(series,ignore_index=True)\n",
      "C:\\Users\\Tang Xiaoyun\\AppData\\Local\\Temp\\ipykernel_22104\\212617760.py:60: FutureWarning: The frame.append method is deprecated and will be removed from pandas in a future version. Use pandas.concat instead.\n",
      "  df = df.append(series,ignore_index=True)\n",
      "C:\\Users\\Tang Xiaoyun\\AppData\\Local\\Temp\\ipykernel_22104\\212617760.py:60: FutureWarning: The frame.append method is deprecated and will be removed from pandas in a future version. Use pandas.concat instead.\n",
      "  df = df.append(series,ignore_index=True)\n",
      "C:\\Users\\Tang Xiaoyun\\AppData\\Local\\Temp\\ipykernel_22104\\212617760.py:60: FutureWarning: The frame.append method is deprecated and will be removed from pandas in a future version. Use pandas.concat instead.\n",
      "  df = df.append(series,ignore_index=True)\n",
      "C:\\Users\\Tang Xiaoyun\\AppData\\Local\\Temp\\ipykernel_22104\\212617760.py:60: FutureWarning: The frame.append method is deprecated and will be removed from pandas in a future version. Use pandas.concat instead.\n",
      "  df = df.append(series,ignore_index=True)\n",
      "C:\\Users\\Tang Xiaoyun\\AppData\\Local\\Temp\\ipykernel_22104\\212617760.py:60: FutureWarning: The frame.append method is deprecated and will be removed from pandas in a future version. Use pandas.concat instead.\n",
      "  df = df.append(series,ignore_index=True)\n",
      "C:\\Users\\Tang Xiaoyun\\AppData\\Local\\Temp\\ipykernel_22104\\212617760.py:60: FutureWarning: The frame.append method is deprecated and will be removed from pandas in a future version. Use pandas.concat instead.\n",
      "  df = df.append(series,ignore_index=True)\n",
      "C:\\Users\\Tang Xiaoyun\\AppData\\Local\\Temp\\ipykernel_22104\\212617760.py:60: FutureWarning: The frame.append method is deprecated and will be removed from pandas in a future version. Use pandas.concat instead.\n",
      "  df = df.append(series,ignore_index=True)\n",
      "C:\\Users\\Tang Xiaoyun\\AppData\\Local\\Temp\\ipykernel_22104\\212617760.py:60: FutureWarning: The frame.append method is deprecated and will be removed from pandas in a future version. Use pandas.concat instead.\n",
      "  df = df.append(series,ignore_index=True)\n",
      "C:\\Users\\Tang Xiaoyun\\AppData\\Local\\Temp\\ipykernel_22104\\212617760.py:60: FutureWarning: The frame.append method is deprecated and will be removed from pandas in a future version. Use pandas.concat instead.\n",
      "  df = df.append(series,ignore_index=True)\n",
      "C:\\Users\\Tang Xiaoyun\\AppData\\Local\\Temp\\ipykernel_22104\\212617760.py:60: FutureWarning: The frame.append method is deprecated and will be removed from pandas in a future version. Use pandas.concat instead.\n",
      "  df = df.append(series,ignore_index=True)\n",
      "C:\\Users\\Tang Xiaoyun\\AppData\\Local\\Temp\\ipykernel_22104\\212617760.py:60: FutureWarning: The frame.append method is deprecated and will be removed from pandas in a future version. Use pandas.concat instead.\n",
      "  df = df.append(series,ignore_index=True)\n",
      "C:\\Users\\Tang Xiaoyun\\AppData\\Local\\Temp\\ipykernel_22104\\212617760.py:60: FutureWarning: The frame.append method is deprecated and will be removed from pandas in a future version. Use pandas.concat instead.\n",
      "  df = df.append(series,ignore_index=True)\n",
      "C:\\Users\\Tang Xiaoyun\\AppData\\Local\\Temp\\ipykernel_22104\\212617760.py:60: FutureWarning: The frame.append method is deprecated and will be removed from pandas in a future version. Use pandas.concat instead.\n",
      "  df = df.append(series,ignore_index=True)\n",
      "C:\\Users\\Tang Xiaoyun\\AppData\\Local\\Temp\\ipykernel_22104\\212617760.py:60: FutureWarning: The frame.append method is deprecated and will be removed from pandas in a future version. Use pandas.concat instead.\n",
      "  df = df.append(series,ignore_index=True)\n",
      "C:\\Users\\Tang Xiaoyun\\AppData\\Local\\Temp\\ipykernel_22104\\212617760.py:60: FutureWarning: The frame.append method is deprecated and will be removed from pandas in a future version. Use pandas.concat instead.\n",
      "  df = df.append(series,ignore_index=True)\n",
      "C:\\Users\\Tang Xiaoyun\\AppData\\Local\\Temp\\ipykernel_22104\\212617760.py:60: FutureWarning: The frame.append method is deprecated and will be removed from pandas in a future version. Use pandas.concat instead.\n",
      "  df = df.append(series,ignore_index=True)\n",
      "C:\\Users\\Tang Xiaoyun\\AppData\\Local\\Temp\\ipykernel_22104\\212617760.py:60: FutureWarning: The frame.append method is deprecated and will be removed from pandas in a future version. Use pandas.concat instead.\n",
      "  df = df.append(series,ignore_index=True)\n",
      "C:\\Users\\Tang Xiaoyun\\AppData\\Local\\Temp\\ipykernel_22104\\212617760.py:60: FutureWarning: The frame.append method is deprecated and will be removed from pandas in a future version. Use pandas.concat instead.\n",
      "  df = df.append(series,ignore_index=True)\n",
      "C:\\Users\\Tang Xiaoyun\\AppData\\Local\\Temp\\ipykernel_22104\\212617760.py:60: FutureWarning: The frame.append method is deprecated and will be removed from pandas in a future version. Use pandas.concat instead.\n",
      "  df = df.append(series,ignore_index=True)\n",
      "C:\\Users\\Tang Xiaoyun\\AppData\\Local\\Temp\\ipykernel_22104\\212617760.py:60: FutureWarning: The frame.append method is deprecated and will be removed from pandas in a future version. Use pandas.concat instead.\n",
      "  df = df.append(series,ignore_index=True)\n"
     ]
    },
    {
     "name": "stdout",
     "output_type": "stream",
     "text": [
      "ok\n"
     ]
    },
    {
     "name": "stderr",
     "output_type": "stream",
     "text": [
      "C:\\Users\\Tang Xiaoyun\\AppData\\Local\\Temp\\ipykernel_22104\\212617760.py:60: FutureWarning: The frame.append method is deprecated and will be removed from pandas in a future version. Use pandas.concat instead.\n",
      "  df = df.append(series,ignore_index=True)\n"
     ]
    }
   ],
   "source": [
    "import requests\n",
    "from lxml import etree\n",
    "from urllib.parse import urlencode,urljoin\n",
    "import pandas as pd\n",
    "from lxml import etree\n",
    "\n",
    "#重构网址\n",
    "new_sites=[]\n",
    "def sites():\n",
    "    site_par = {\"list\":[\n",
    "                        \"1-alsace\",\n",
    "                        \"2-aquitaine\",\n",
    "                        \"3-auvergne\",\n",
    "                        \"4-bourgogne\",\n",
    "                        \"5-bretagne\",\n",
    "                        \"6-centre\",\n",
    "                        \"7-champagne-ardenne\",\n",
    "                        \"8-corse\",\n",
    "                        \"9-franch-comte\",\n",
    "                        \"10-guadeloupe\",\n",
    "                        \"11-guyane\",\n",
    "                        \"12-ile-de-france\",\n",
    "                        \"13-languedoc-roussillon\",\n",
    "                        \"14-limousin\",\n",
    "                        \"15-lorraine\",\n",
    "                        \"16-martinique\",\n",
    "                        \"17-midi-pyrenees\",\n",
    "                        \"18-nord-pas-de-calais\",\n",
    "                        \"19-normandie\",\n",
    "                        \"20-pays-de-la-loire\",\n",
    "                        \"21-picardie\",\n",
    "                        \"22-poitou-charentes\",\n",
    "                        \"23-provence-alpes-cote-d-azur\",\n",
    "                        \"24-reunion\",\n",
    "                        \"25-rhone-alpes\"]}\n",
    "\n",
    "    base_url =\"https://www.cuisinealafrancaise.com/fr/regions/\"  \n",
    "    for j in range(0,len(site_par[\"list\"])): \n",
    "        url = base_url+site_par[\"list\"][j]\n",
    "        new_sites.append(url)\n",
    "    return(new_sites)\n",
    "\n",
    "#抓取数据并保存    \n",
    "def scrapSave():\n",
    "    #使用pd建立一个文档\n",
    "    df=pd.DataFrame()\n",
    "    #url一个循环传入\n",
    "    for k in range(0,len(sites())) :\n",
    "        url = new_sites[k]\n",
    "        data =requests.get(url)\n",
    "        session=etree.HTML(data.text)\n",
    "        \n",
    "        nomRegion = session.xpath('//*[@id=\"col1_content\"]/div[2]/h1/span')[0].xpath(\"string(.)\")\n",
    "        desc=session.xpath('string(//*[@id=\"col1_content\"]/div[2]/div[2]/div/div[1]/div)')\n",
    "        nour=session.xpath('string(//*[@id=\"col1_content\"]/div[2]/div[2]/div/div[2]/div/div/div)')\n",
    "        #print (f\"nom :{nomRegion}, desc:{desc}, nour:{nour}\")\n",
    "        \"\"\"******************save to csv***************************\"\"\"\n",
    "        dic_data={\"Region\":nomRegion,\"Description\":desc,\"Nourriture\":nour}\n",
    "        series = pd.Series(dic_data)\n",
    "        df = df.append(series,ignore_index=True)\n",
    "    df = df[[\"Region\",\"Description\",\"Nourriture\"]]\n",
    "    df.to_csv(\"region_data5.csv\",encoding=\"utf-8-sig\",index=False)\n",
    "    return \"ok\"\n",
    "\n",
    "\"\"\"def main():\n",
    "    finish = scrapSave()\n",
    "    return finish\"\"\"\n",
    "\n",
    "print(scrapSave())\n",
    "\n"
   ]
  },
  {
   "cell_type": "code",
   "execution_count": null,
   "id": "d97285e9",
   "metadata": {},
   "outputs": [],
   "source": []
  },
  {
   "cell_type": "code",
   "execution_count": null,
   "id": "592aace7",
   "metadata": {},
   "outputs": [],
   "source": []
  }
 ],
 "metadata": {
  "kernelspec": {
   "display_name": "base",
   "language": "python",
   "name": "python3"
  },
  "language_info": {
   "codemirror_mode": {
    "name": "ipython",
    "version": 3
   },
   "file_extension": ".py",
   "mimetype": "text/x-python",
   "name": "python",
   "nbconvert_exporter": "python",
   "pygments_lexer": "ipython3",
   "version": "3.9.12"
  },
  "vscode": {
   "interpreter": {
    "hash": "ad2bdc8ecc057115af97d19610ffacc2b4e99fae6737bb82f5d7fb13d2f2c186"
   }
  }
 },
 "nbformat": 4,
 "nbformat_minor": 5
}
